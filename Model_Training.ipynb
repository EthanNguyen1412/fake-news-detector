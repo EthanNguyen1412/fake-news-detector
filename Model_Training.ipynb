{
 "cells": [
  {
   "cell_type": "code",
   "execution_count": 1,
   "id": "a2977dda",
   "metadata": {},
   "outputs": [],
   "source": [
    "import pandas as pd\n",
    "import numpy as np\n",
    "import re\n",
    "from sklearn.model_selection import train_test_split\n",
    "from sklearn.feature_extraction.text import TfidfVectorizer\n",
    "from sklearn.linear_model import PassiveAggressiveClassifier\n",
    "from sklearn.metrics import accuracy_score, confusion_matrix\n",
    "import pickle # Thư viện để lưu model"
   ]
  },
  {
   "cell_type": "code",
   "execution_count": 2,
   "id": "a91ed960",
   "metadata": {},
   "outputs": [
    {
     "name": "stdout",
     "output_type": "stream",
     "text": [
      "Dữ liệu sau khi gộp:\n"
     ]
    },
    {
     "data": {
      "text/html": [
       "<div>\n",
       "<style scoped>\n",
       "    .dataframe tbody tr th:only-of-type {\n",
       "        vertical-align: middle;\n",
       "    }\n",
       "\n",
       "    .dataframe tbody tr th {\n",
       "        vertical-align: top;\n",
       "    }\n",
       "\n",
       "    .dataframe thead th {\n",
       "        text-align: right;\n",
       "    }\n",
       "</style>\n",
       "<table border=\"1\" class=\"dataframe\">\n",
       "  <thead>\n",
       "    <tr style=\"text-align: right;\">\n",
       "      <th></th>\n",
       "      <th>text</th>\n",
       "      <th>label</th>\n",
       "    </tr>\n",
       "  </thead>\n",
       "  <tbody>\n",
       "    <tr>\n",
       "      <th>0</th>\n",
       "      <td>Donald Trump s White House is in chaos, and th...</td>\n",
       "      <td>0</td>\n",
       "    </tr>\n",
       "    <tr>\n",
       "      <th>1</th>\n",
       "      <td>Now that Donald Trump is the presumptive GOP n...</td>\n",
       "      <td>0</td>\n",
       "    </tr>\n",
       "    <tr>\n",
       "      <th>2</th>\n",
       "      <td>Mike Pence is a huge homophobe. He supports ex...</td>\n",
       "      <td>0</td>\n",
       "    </tr>\n",
       "    <tr>\n",
       "      <th>3</th>\n",
       "      <td>SAN FRANCISCO (Reuters) - California Attorney ...</td>\n",
       "      <td>1</td>\n",
       "    </tr>\n",
       "    <tr>\n",
       "      <th>4</th>\n",
       "      <td>Twisted reasoning is all that comes from Pelos...</td>\n",
       "      <td>0</td>\n",
       "    </tr>\n",
       "  </tbody>\n",
       "</table>\n",
       "</div>"
      ],
      "text/plain": [
       "                                                text  label\n",
       "0  Donald Trump s White House is in chaos, and th...      0\n",
       "1  Now that Donald Trump is the presumptive GOP n...      0\n",
       "2  Mike Pence is a huge homophobe. He supports ex...      0\n",
       "3  SAN FRANCISCO (Reuters) - California Attorney ...      1\n",
       "4  Twisted reasoning is all that comes from Pelos...      0"
      ]
     },
     "execution_count": 2,
     "metadata": {},
     "output_type": "execute_result"
    }
   ],
   "source": [
    "# Đọc dữ liệu\n",
    "df_true = pd.read_csv('data/True.csv')\n",
    "df_fake = pd.read_csv('data/Fake.csv')\n",
    "\n",
    "# Gán nhãn: 1 cho tin thật, 0 cho tin giả\n",
    "df_true['label'] = 1\n",
    "df_fake['label'] = 0\n",
    "\n",
    "# Gộp 2 dataframe, chỉ lấy cột text và label\n",
    "df = pd.concat([df_true, df_fake])[['text', 'label']]\n",
    "\n",
    "# Xáo trộn dữ liệu để đảm bảo tính ngẫu nhiên\n",
    "df = df.sample(frac=1, random_state=42).reset_index(drop=True)\n",
    "\n",
    "print(\"Dữ liệu sau khi gộp:\")\n",
    "df.head()"
   ]
  },
  {
   "cell_type": "code",
   "execution_count": 3,
   "id": "b4a5dfd7",
   "metadata": {},
   "outputs": [],
   "source": [
    "# Hàm làm sạch văn bản\n",
    "def preprocess_text(text):\n",
    "    text = text.lower() # Chuyển thành chữ thường\n",
    "    text = re.sub(r'\\s+', ' ', text) # Loại bỏ khoảng trắng thừa\n",
    "    text = re.sub(r'\\[.*?\\]', '', text) # Loại bỏ các chuỗi như [Reuters]\n",
    "    text = re.sub(r'<.*?>+', '', text) # Loại bỏ tag html\n",
    "    text = re.sub(r'\\w*\\d\\w*', '', text) # Loại bỏ từ chứa số\n",
    "    return text\n",
    "\n",
    "df['text'] = df['text'].apply(preprocess_text)"
   ]
  },
  {
   "cell_type": "code",
   "execution_count": 4,
   "id": "5175c913",
   "metadata": {},
   "outputs": [],
   "source": [
    "# Phân chia tập train và test\n",
    "X_train, X_test, y_train, y_test = train_test_split(df['text'], df['label'], test_size=0.2, random_state=42)\n",
    "\n",
    "# Khởi tạo TF-IDF Vectorizer\n",
    "tfidf_vectorizer = TfidfVectorizer(stop_words='english', max_df=0.7)\n",
    "\n",
    "# Fit và transform tập train, chỉ transform tập test\n",
    "tfidf_train = tfidf_vectorizer.fit_transform(X_train)\n",
    "tfidf_test = tfidf_vectorizer.transform(X_test)"
   ]
  },
  {
   "cell_type": "code",
   "execution_count": 5,
   "id": "c3adb159",
   "metadata": {},
   "outputs": [
    {
     "name": "stdout",
     "output_type": "stream",
     "text": [
      "Độ chính xác của mô hình: 99.38%\n",
      "Ma trận nhầm lẫn (Confusion Matrix):\n",
      "[[4635   34]\n",
      " [  22 4289]]\n"
     ]
    }
   ],
   "source": [
    "# Khởi tạo mô hình Passive Aggressive Classifier\n",
    "pac = PassiveAggressiveClassifier(max_iter=50)\n",
    "pac.fit(tfidf_train, y_train)\n",
    "\n",
    "# Dự đoán trên tập test và tính độ chính xác\n",
    "y_pred = pac.predict(tfidf_test)\n",
    "score = accuracy_score(y_test, y_pred)\n",
    "\n",
    "print(f\"Độ chính xác của mô hình: {score*100:.2f}%\")\n",
    "print(\"Ma trận nhầm lẫn (Confusion Matrix):\")\n",
    "print(confusion_matrix(y_test, y_pred))"
   ]
  },
  {
   "cell_type": "code",
   "execution_count": 6,
   "id": "2a35a562",
   "metadata": {},
   "outputs": [
    {
     "name": "stdout",
     "output_type": "stream",
     "text": [
      "Đã lưu model và vectorizer vào thư mục 'saved_model'\n"
     ]
    }
   ],
   "source": [
    "# Tạo thư mục để lưu model nếu chưa có\n",
    "import os\n",
    "if not os.path.exists('saved_model'):\n",
    "    os.makedirs('saved_model')\n",
    "\n",
    "# Lưu model đã huấn luyện\n",
    "with open('saved_model/model.pkl', 'wb') as f:\n",
    "    pickle.dump(pac, f)\n",
    "\n",
    "# Lưu vectorizer\n",
    "with open('saved_model/vectorizer.pkl', 'wb') as f:\n",
    "    pickle.dump(tfidf_vectorizer, f)\n",
    "\n",
    "print(\"Đã lưu model và vectorizer vào thư mục 'saved_model'\")"
   ]
  }
 ],
 "metadata": {
  "kernelspec": {
   "display_name": ".venv",
   "language": "python",
   "name": "python3"
  },
  "language_info": {
   "codemirror_mode": {
    "name": "ipython",
    "version": 3
   },
   "file_extension": ".py",
   "mimetype": "text/x-python",
   "name": "python",
   "nbconvert_exporter": "python",
   "pygments_lexer": "ipython3",
   "version": "3.13.5"
  }
 },
 "nbformat": 4,
 "nbformat_minor": 5
}
